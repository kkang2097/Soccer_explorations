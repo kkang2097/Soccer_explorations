{
 "cells": [
  {
   "cell_type": "markdown",
   "metadata": {},
   "source": [
    "#Exploration of a dataset with Football (soccer) events data\n",
    "\n",
    "Source: https://www.kaggle.com/secareanualin/football-events/data\n",
    "\n",
    "This notebook is just a basic exploration on how effective shot placement is for certain locations of the goal."
   ]
  },
  {
   "cell_type": "code",
   "execution_count": 1,
   "metadata": {},
   "outputs": [
    {
     "name": "stdout",
     "output_type": "stream",
     "text": [
      "     id_odsp   id_event  sort_order  time  \\\n",
      "0  UFot0hit/  UFot0hit1           1     2   \n",
      "1  UFot0hit/  UFot0hit2           2     4   \n",
      "2  UFot0hit/  UFot0hit3           3     4   \n",
      "3  UFot0hit/  UFot0hit4           4     7   \n",
      "4  UFot0hit/  UFot0hit5           5     7   \n",
      "\n",
      "                                                text  event_type  event_type2  \\\n",
      "0  Attempt missed. Mladen Petric (Hamburg) left f...           1         12.0   \n",
      "1  Corner,  Borussia Dortmund. Conceded by Dennis...           2          NaN   \n",
      "2  Corner,  Borussia Dortmund. Conceded by Heiko ...           2          NaN   \n",
      "3           Foul by Sven Bender (Borussia Dortmund).           3          NaN   \n",
      "4  Gokhan Tore (Hamburg) wins a free kick in the ...           8          NaN   \n",
      "\n",
      "   side         event_team           opponent     ...     player_in  \\\n",
      "0     2         Hamburg SV  Borussia Dortmund     ...           NaN   \n",
      "1     1  Borussia Dortmund         Hamburg SV     ...           NaN   \n",
      "2     1  Borussia Dortmund         Hamburg SV     ...           NaN   \n",
      "3     1  Borussia Dortmund         Hamburg SV     ...           NaN   \n",
      "4     2         Hamburg SV  Borussia Dortmund     ...           NaN   \n",
      "\n",
      "  player_out shot_place shot_outcome  is_goal  location  bodypart  \\\n",
      "0        NaN        6.0          2.0        0       9.0       2.0   \n",
      "1        NaN        NaN          NaN        0       NaN       NaN   \n",
      "2        NaN        NaN          NaN        0       NaN       NaN   \n",
      "3        NaN        NaN          NaN        0       NaN       NaN   \n",
      "4        NaN        NaN          NaN        0       2.0       NaN   \n",
      "\n",
      "   assist_method  situation  fast_break  \n",
      "0              1        1.0           0  \n",
      "1              0        NaN           0  \n",
      "2              0        NaN           0  \n",
      "3              0        NaN           0  \n",
      "4              0        NaN           0  \n",
      "\n",
      "[5 rows x 22 columns]\n"
     ]
    }
   ],
   "source": [
    "import pandas as pd\n",
    "\n",
    "\n",
    "# Use pd.read_csv('FILEPATH') when using your own computer\n",
    "df = pd.read_csv('C:\\\\Users\\\\Elliot\\\\Downloads\\\\football-events\\\\football-events\\\\events.csv')\n",
    "\n",
    "\n",
    "#To give you a rough idea of what the csv file looks like (check the link above to download the csv file)\n",
    "print(df.head(n=5))\n",
    "\n",
    "# **NOTE** The forward slash \"\\\" below just means all the columns are supposed to be on the same line (if space allows)"
   ]
  },
  {
   "cell_type": "markdown",
   "metadata": {},
   "source": [
    "Next, reshape the csv file so that we are only analyzing goals, not just all the shots taken. In later notebooks, we will be exploring the data more.\n",
    "\n",
    "The binary variable 'is_goal' indicates the play resulted in a goal if is_goal = 1, and 0 otherwise."
   ]
  },
  {
   "cell_type": "code",
   "execution_count": 2,
   "metadata": {
    "collapsed": true
   },
   "outputs": [],
   "source": [
    "df = df.drop(df[df.is_goal != 1].index)   #drop rows that do not have a value of 1 as output for is_goal"
   ]
  },
  {
   "cell_type": "markdown",
   "metadata": {},
   "source": [
    "Let's see how many goals are scored with right foot, left foot, and header.\n",
    "\n",
    "from dictionary:\n",
    "\n",
    "bodypart\n",
    "\n",
    "1\tright foot\n",
    "2\tleft foot\n",
    "3\thead\n",
    "\n",
    "To count how many goals are scored with each..."
   ]
  },
  {
   "cell_type": "code",
   "execution_count": 3,
   "metadata": {},
   "outputs": [
    {
     "name": "stdout",
     "output_type": "stream",
     "text": [
      "13451\n",
      "6758\n",
      "4236\n"
     ]
    }
   ],
   "source": [
    "print(len(df[df.bodypart ==1].index)) \n",
    "print(len(df[df.bodypart ==2].index))\n",
    "print(len(df[df.bodypart ==3].index))"
   ]
  },
  {
   "cell_type": "markdown",
   "metadata": {},
   "source": [
    "Nothing really surprising, but further exploration in the future might yield some interesting results. We know that a vast majority of players shoot primarily on their right foot, but about 25% of goals seem to come from left-footed shots. Okay, moving on..."
   ]
  },
  {
   "cell_type": "markdown",
   "metadata": {},
   "source": [
    "Let's try to count goals resulted from open play vs. set pieces:\n",
    "\n",
    "Taken from dictionary file:\n",
    "    \n",
    "    situation\n",
    "1\tOpen play\n",
    "2\tSet piece\n",
    "3\tCorner\n",
    "4\tFree kick"
   ]
  },
  {
   "cell_type": "code",
   "execution_count": 4,
   "metadata": {},
   "outputs": [
    {
     "name": "stdout",
     "output_type": "stream",
     "text": [
      "17308\n",
      "3671\n",
      "2725\n",
      "737\n"
     ]
    }
   ],
   "source": [
    "print(len(df[df.situation ==1].index))\n",
    "print(len(df[df.situation ==2].index))\n",
    "print(len(df[df.situation ==3].index))\n",
    "print(len(df[df.situation ==4].index))"
   ]
  },
  {
   "cell_type": "markdown",
   "metadata": {},
   "source": [
    "Nearly 30% of goals are scored from set pieces (any stoppage of play, including corner and free kicks) from our data. Given that our sample size is 9074 games, the data seems to cover enough games to be representative of European soccer. Luckily our data points haven't been taken from any results of match-fixing. *cough cough* Italian soccer in 2006 (https://en.wikipedia.org/wiki/2006_Italian_football_scandal) \n",
    "Well, actually just in case Wikipedia's donations dry up and the website dies, https://www.foxsports.com/soccer/story/10th-anniversary-of-juventus-relegation-to-serie-a-071416.\n",
    "\n",
    "\n",
    "\n",
    "The numbers above show that set pieces have significant impact on games, despite being allotted such a small amount of time compared to open play."
   ]
  },
  {
   "cell_type": "markdown",
   "metadata": {},
   "source": [
    "Next, shot selection.\n",
    "\n",
    "shot_place:\n",
    "\n",
    "1\tBit too high;\n",
    "2\tBlocked;\n",
    "3\tBottom left corner;\n",
    "4\tBottom right corner;\n",
    "5\tCentre of the goal;\n",
    "6\tHigh and wide;\n",
    "7\tHits the bar;\n",
    "8\tMisses to the left;\n",
    "9\tMisses to the right;\n",
    "10\tToo high;\n",
    "11\tTop centre of the goal;\n",
    "12\tTop left corner;\n",
    "13\tTop right corner;\n",
    "\n",
    "**NOTE** Notice that only 3,4,5,12,13 mean that the shot was on target."
   ]
  },
  {
   "cell_type": "code",
   "execution_count": 5,
   "metadata": {},
   "outputs": [
    {
     "name": "stdout",
     "output_type": "stream",
     "text": [
      "7212\n",
      "6932\n",
      "4446\n",
      "2023\n",
      "2157\n"
     ]
    }
   ],
   "source": [
    "print(len(df[df.shot_place ==3].index))\n",
    "print(len(df[df.shot_place ==4].index))\n",
    "print(len(df[df.shot_place ==5].index))\n",
    "print(len(df[df.shot_place ==12].index))\n",
    "print(len(df[df.shot_place ==13].index))"
   ]
  },
  {
   "cell_type": "markdown",
   "metadata": {},
   "source": [
    "Surprisingly, aiming to the bottom corners seems to have worked more often than going for the top corners (contrary to my old coach's opinions). Hope you enjoyed, will be back with some more explorations."
   ]
  }
 ],
 "metadata": {
  "kernelspec": {
   "display_name": "Python 3",
   "language": "python",
   "name": "python3"
  },
  "language_info": {
   "codemirror_mode": {
    "name": "ipython",
    "version": 3
   },
   "file_extension": ".py",
   "mimetype": "text/x-python",
   "name": "python",
   "nbconvert_exporter": "python",
   "pygments_lexer": "ipython3",
   "version": "3.6.3"
  }
 },
 "nbformat": 4,
 "nbformat_minor": 2
}
