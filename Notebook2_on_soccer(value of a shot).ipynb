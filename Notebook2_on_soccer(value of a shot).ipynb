{
 "cells": [
  {
   "cell_type": "markdown",
   "metadata": {},
   "source": [
    "What is a shot worth? Today's notebook will talk about how valuable a shot is, and the most effective way to lead up to those shots."
   ]
  },
  {
   "cell_type": "code",
   "execution_count": 4,
   "metadata": {},
   "outputs": [
    {
     "name": "stdout",
     "output_type": "stream",
     "text": [
      "7212\n",
      "6932\n",
      "4446\n",
      "2023\n",
      "2157\n"
     ]
    }
   ],
   "source": [
    "import pandas as pd\n",
    "\n",
    "\n",
    "# Use pd.read_csv('FILEPATH')\n",
    "df = pd.read_csv('C:\\\\Users\\\\Elliot\\Desktop\\\\data science datasets\\\\football-events\\\\football-events\\\\events.csv')\n",
    "\n",
    "df = df.drop(df[df.is_goal != 1].index)\n",
    "\n",
    "\n",
    "print(len(df[df.shot_place ==3].index))\n",
    "print(len(df[df.shot_place ==4].index))\n",
    "print(len(df[df.shot_place ==5].index))\n",
    "print(len(df[df.shot_place ==12].index))\n",
    "print(len(df[df.shot_place ==13].index))"
   ]
  },
  {
   "cell_type": "markdown",
   "metadata": {},
   "source": [
    "7212 shots were made to the bottom left corner, 6932 were made when shot in the bottom right corner, 4446 were aimed the middle, 2023 were made in the top left corner, 2157 were made in top right corner. Now for shots attempted:"
   ]
  },
  {
   "cell_type": "code",
   "execution_count": 5,
   "metadata": {},
   "outputs": [
    {
     "name": "stdout",
     "output_type": "stream",
     "text": [
      "18260\n",
      "18748\n",
      "25079\n",
      "5983\n",
      "6306\n"
     ]
    }
   ],
   "source": [
    "df = pd.read_csv('C:\\\\Users\\\\Elliot\\Desktop\\\\data science datasets\\\\football-events\\\\football-events\\\\events.csv')\n",
    "\n",
    "print(len(df[df.shot_place ==3].index))\n",
    "print(len(df[df.shot_place ==4].index))\n",
    "print(len(df[df.shot_place ==5].index))\n",
    "print(len(df[df.shot_place ==12].index))\n",
    "print(len(df[df.shot_place ==13].index))"
   ]
  },
  {
   "cell_type": "markdown",
   "metadata": {},
   "source": [
    "So about 1/3 of all shots (on target) in the corners of the goal were made, as opposed to 1/5 in the middle. That is a sizable gap, so it is safe to say that one should shoot in the corners of the goal. Now what about the best way to assist a goal? "
   ]
  },
  {
   "cell_type": "code",
   "execution_count": 7,
   "metadata": {},
   "outputs": [
    {
     "name": "stdout",
     "output_type": "stream",
     "text": [
      "7877\n",
      "8662\n",
      "5143\n",
      "844\n",
      "1920\n"
     ]
    }
   ],
   "source": [
    "df = pd.read_csv('C:\\\\Users\\\\Elliot\\Desktop\\\\data science datasets\\\\football-events\\\\football-events\\\\events.csv')\n",
    "\n",
    "df = df.drop(df[df.is_goal != 1].index)\n",
    "\n",
    "print(len(df[df.assist_method ==0].index))\n",
    "print(len(df[df.assist_method ==1].index))\n",
    "print(len(df[df.assist_method ==2].index))\n",
    "print(len(df[df.assist_method ==3].index))\n",
    "print(len(df[df.assist_method ==4].index))"
   ]
  },
  {
   "cell_type": "markdown",
   "metadata": {},
   "source": [
    "Above are the number of assists by no pass, pass, cross, headed pass, and through ball respectively. So we can see that alot of goals are actually scored by the effort of one person, but most are the result of a pass. Now to see all attempted goals:\n"
   ]
  },
  {
   "cell_type": "code",
   "execution_count": 11,
   "metadata": {},
   "outputs": [
    {
     "name": "stdout",
     "output_type": "stream",
     "text": [
      "61276\n",
      "109503\n",
      "43271\n",
      "7713\n",
      "7372\n"
     ]
    }
   ],
   "source": [
    "df = pd.read_csv('C:\\\\Users\\\\Elliot\\Desktop\\\\data science datasets\\\\football-events\\\\football-events\\\\events.csv')\n",
    "df = df.drop(df[df.event_type != 1].index)    #drop all non-goal attempts\n",
    "\n",
    "\n",
    "for x in range(0,5):\n",
    "    print(len(df[df.assist_method == x].index))"
   ]
  },
  {
   "cell_type": "markdown",
   "metadata": {},
   "source": [
    "According to the results above, a player dribbling by himself and attempting a goal yielded about 13% chance of scoring.\n",
    "\n",
    "A player that received a pass had a 8% chance of scoring.\n",
    "\n",
    "A player receiving a cross had a 12% change of scoring.\n",
    "\n",
    "A player receiving a headed pass had a 11% chance of scoring.\n",
    "\n",
    "A player receiving a through pass (or through ball) had a whopping 26% chance of scoring.\n",
    "\n",
    "Takeaways: Given that these were all honest attempts, the through pass had by far the highest chance of resulting in a goal. And since soccer does not penalize offsides heavily, Real Madrid can justify how often Christiano Ronaldo gets caught offsides (given he is the most prolific scorer of our time). And aim for those low corners when shooting!"
   ]
  }
 ],
 "metadata": {
  "kernelspec": {
   "display_name": "Python 3",
   "language": "python",
   "name": "python3"
  },
  "language_info": {
   "codemirror_mode": {
    "name": "ipython",
    "version": 3
   },
   "file_extension": ".py",
   "mimetype": "text/x-python",
   "name": "python",
   "nbconvert_exporter": "python",
   "pygments_lexer": "ipython3",
   "version": "3.6.3"
  }
 },
 "nbformat": 4,
 "nbformat_minor": 2
}
